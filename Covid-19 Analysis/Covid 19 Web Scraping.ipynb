{
 "cells": [
  {
   "cell_type": "code",
   "execution_count": 1,
   "metadata": {
    "scrolled": true
   },
   "outputs": [
    {
     "name": "stdout",
     "output_type": "stream",
     "text": [
      "date= 03-31-20\n"
     ]
    }
   ],
   "source": [
    "from datetime import date\n",
    "today=date.today()\n",
    "d=today.strftime('%m-%d-%y')\n",
    "print(\"date=\",d)"
   ]
  },
  {
   "cell_type": "code",
   "execution_count": 2,
   "metadata": {},
   "outputs": [],
   "source": [
    "cnn_url=\"https://www.cnn.com/world/live-news/coronavirus-outbreak-03-12-20-intl-hnk/index.html\""
   ]
  },
  {
   "cell_type": "code",
   "execution_count": 3,
   "metadata": {},
   "outputs": [],
   "source": [
    "#cnn_url=\"https://www.cnn.com/world/live-news/coronavirus-outbreak-{}-intl-hnk/index.html\".format(d)"
   ]
  },
  {
   "cell_type": "code",
   "execution_count": 4,
   "metadata": {
    "scrolled": true
   },
   "outputs": [
    {
     "data": {
      "text/plain": [
       "'https://www.cnn.com/world/live-news/coronavirus-outbreak-03-12-20-intl-hnk/index.html'"
      ]
     },
     "execution_count": 4,
     "metadata": {},
     "output_type": "execute_result"
    }
   ],
   "source": [
    "cnn_url"
   ]
  },
  {
   "cell_type": "code",
   "execution_count": 5,
   "metadata": {},
   "outputs": [],
   "source": [
    "#!pip install beautifulsoup4"
   ]
  },
  {
   "cell_type": "code",
   "execution_count": 6,
   "metadata": {},
   "outputs": [],
   "source": [
    "from bs4 import BeautifulSoup\n",
    "import requests"
   ]
  },
  {
   "cell_type": "code",
   "execution_count": 7,
   "metadata": {},
   "outputs": [],
   "source": [
    "html=requests.get(cnn_url).text"
   ]
  },
  {
   "cell_type": "code",
   "execution_count": 8,
   "metadata": {
    "scrolled": false
   },
   "outputs": [
    {
     "name": "stdout",
     "output_type": "stream",
     "text": [
      "<title data-rh=\"true\">March 12 coronavirus news - CNN</title>\n"
     ]
    }
   ],
   "source": [
    "soup=BeautifulSoup(html)\n",
    "print(soup.title)"
   ]
  },
  {
   "cell_type": "code",
   "execution_count": 9,
   "metadata": {},
   "outputs": [],
   "source": [
    "#!pip install spacy"
   ]
  },
  {
   "cell_type": "code",
   "execution_count": 10,
   "metadata": {},
   "outputs": [
    {
     "data": {
      "text/plain": [
       "<spacy.lang.en.English at 0x2c2b090e8d0>"
      ]
     },
     "execution_count": 10,
     "metadata": {},
     "output_type": "execute_result"
    }
   ],
   "source": [
    "import spacy\n",
    "spacy.load(\"en_core_web_sm\")"
   ]
  },
  {
   "cell_type": "code",
   "execution_count": 11,
   "metadata": {
    "scrolled": true
   },
   "outputs": [],
   "source": [
    "nlp=spacy.load(\"en_core_web_sm\")"
   ]
  },
  {
   "cell_type": "code",
   "execution_count": 12,
   "metadata": {},
   "outputs": [
    {
     "name": "stdout",
     "output_type": "stream",
     "text": [
      "Headline : What you need to know\n",
      "Headline : \n",
      "Headline : No deal reached tonight on coronavirus response package, Pelosi says\n",
      "\tText : tonight, Entity : TIME\n",
      "\tText : Pelosi, Entity : ORG\n",
      "Headline : Singer Billie Eilish postpones tour dates over coronavirus outbreak\n",
      "\tText : Billie Eilish, Entity : PERSON\n",
      "Headline : SOON: CNN's coronavirus town hall\n",
      "\tText : CNN, Entity : ORG\n",
      "Headline : Disney World, Disneyland Paris Resort to close over coronavirus concerns\n",
      "\tText : Disney World, Entity : ORG\n",
      "\tText : Disneyland Paris Resort, Entity : ORG\n",
      "Headline : Pennsylvania Department of Corrections suspending most prison visits starting tomorrow\n",
      "\tText : Pennsylvania Department of Corrections, Entity : ORG\n",
      "\tText : tomorrow, Entity : DATE\n",
      "Headline : New Mexico to close all K-12 public schools for 3 weeks\n",
      "\tText : New Mexico, Entity : GPE\n",
      "\tText : 3 weeks, Entity : DATE\n",
      "Headline : NBA's Cleveland Cavaliers to compensate all stadium employees regular wages\n",
      "\tText : NBA, Entity : ORG\n",
      "\tText : Cleveland Cavaliers, Entity : ORG\n",
      "Headline : Kansas announces first coronavirus death\n",
      "\tText : Kansas, Entity : GPE\n",
      "\tText : first, Entity : ORDINAL\n"
     ]
    }
   ],
   "source": [
    "for link in soup.find_all(\"h2\"):\n",
    "    \n",
    "    print(\"Headline : {}\".format(link.text))\n",
    "    for ent in nlp(link.text).ents: \n",
    "      print(\"\\tText : {}, Entity : {}\".format(ent.text, ent.label_))"
   ]
  },
  {
   "cell_type": "code",
   "execution_count": 13,
   "metadata": {},
   "outputs": [],
   "source": [
    "nbc_url='https://www.nbcnews.com/health/coronavirus'\n",
    "cnbc_rss_url='https://www.cnbc.com/id/10000108/device/rss/rss.html'"
   ]
  },
  {
   "cell_type": "code",
   "execution_count": 14,
   "metadata": {},
   "outputs": [],
   "source": [
    "urls=[cnn_url,nbc_url,cnbc_rss_url]\n",
    "formats=['html.parser','html.parser','xml']\n",
    "tags=['h2','h2','description']\n",
    "website=['CNN','NBC','CNBC']"
   ]
  },
  {
   "cell_type": "code",
   "execution_count": 15,
   "metadata": {},
   "outputs": [],
   "source": [
    "#!pip install lxml"
   ]
  },
  {
   "cell_type": "code",
   "execution_count": 16,
   "metadata": {},
   "outputs": [],
   "source": [
    "crawl_len=0\n",
    "news_dict=[]\n",
    "for url in urls:\n",
    "    response=requests.get(url)\n",
    "    soup=BeautifulSoup(response.content,formats[crawl_len])\n",
    "    for link in soup.find_all(tags[crawl_len]):\n",
    "        if(len(link.text.split(\" \"))>4):\n",
    "            entities=[]\n",
    "            entities=[(ent.text,ent.label_) for ent in nlp(link.text).ents]\n",
    "            news_dict.append({'website':website[crawl_len],'url':url,'headline':link.text,'entities':entities})\n",
    "    crawl_len=crawl_len+1"
   ]
  },
  {
   "cell_type": "code",
   "execution_count": 17,
   "metadata": {
    "scrolled": false
   },
   "outputs": [
    {
     "name": "stdout",
     "output_type": "stream",
     "text": [
      "[{'website': 'CNN', 'url': 'https://www.cnn.com/world/live-news/coronavirus-outbreak-03-12-20-intl-hnk/index.html', 'headline': 'What you need to know', 'entities': []}, {'website': 'CNN', 'url': 'https://www.cnn.com/world/live-news/coronavirus-outbreak-03-12-20-intl-hnk/index.html', 'headline': 'No deal reached tonight on coronavirus response package, Pelosi says', 'entities': [('tonight', 'TIME'), ('Pelosi', 'ORG')]}, {'website': 'CNN', 'url': 'https://www.cnn.com/world/live-news/coronavirus-outbreak-03-12-20-intl-hnk/index.html', 'headline': 'Singer Billie Eilish postpones tour dates over coronavirus outbreak', 'entities': [('Billie Eilish', 'PERSON')]}, {'website': 'CNN', 'url': 'https://www.cnn.com/world/live-news/coronavirus-outbreak-03-12-20-intl-hnk/index.html', 'headline': \"SOON: CNN's coronavirus town hall\", 'entities': [('CNN', 'ORG')]}, {'website': 'CNN', 'url': 'https://www.cnn.com/world/live-news/coronavirus-outbreak-03-12-20-intl-hnk/index.html', 'headline': 'Disney World, Disneyland Paris Resort to close over coronavirus concerns', 'entities': [('Disney World', 'ORG'), ('Disneyland Paris Resort', 'ORG')]}, {'website': 'CNN', 'url': 'https://www.cnn.com/world/live-news/coronavirus-outbreak-03-12-20-intl-hnk/index.html', 'headline': 'Pennsylvania Department of Corrections suspending most prison visits starting tomorrow', 'entities': [('Pennsylvania Department of Corrections', 'ORG'), ('tomorrow', 'DATE')]}, {'website': 'CNN', 'url': 'https://www.cnn.com/world/live-news/coronavirus-outbreak-03-12-20-intl-hnk/index.html', 'headline': 'New Mexico to close all K-12 public schools for 3 weeks', 'entities': [('New Mexico', 'GPE'), ('3 weeks', 'DATE')]}, {'website': 'CNN', 'url': 'https://www.cnn.com/world/live-news/coronavirus-outbreak-03-12-20-intl-hnk/index.html', 'headline': \"NBA's Cleveland Cavaliers to compensate all stadium employees regular wages\", 'entities': [('NBA', 'ORG'), ('Cleveland Cavaliers', 'ORG')]}, {'website': 'CNN', 'url': 'https://www.cnn.com/world/live-news/coronavirus-outbreak-03-12-20-intl-hnk/index.html', 'headline': 'Kansas announces first coronavirus death', 'entities': [('Kansas', 'GPE'), ('first', 'ORDINAL')]}, {'website': 'NBC', 'url': 'https://www.nbcnews.com/health/coronavirus', 'headline': \"Americans told to prepare for 100,000-240,000 coronavirus deaths as Trump predicts 'very painful two weeks'\", 'entities': [('Americans', 'NORP'), ('100,000-240,000', 'CARDINAL'), ('Trump', 'PERSON'), (\"two weeks'\", 'DATE')]}, {'website': 'NBC', 'url': 'https://www.nbcnews.com/health/coronavirus', 'headline': \"Watch live\\xa0/ 'Coronavirus Pandemic,' an NBC News special report hosted by Savannah Guthrie and Hoda Kotb\", 'entities': [('NBC News', 'ORG'), ('Savannah Guthrie', 'PERSON'), ('Hoda Kotb', 'PERSON')]}, {'website': 'NBC', 'url': 'https://www.nbcnews.com/health/coronavirus', 'headline': 'Live Blog\\xa0/ Latest news on the global pandemic', 'entities': []}, {'website': 'NBC', 'url': 'https://www.nbcnews.com/health/coronavirus', 'headline': 'Trump sees ghosts of hometown past and election future in COVID-19', 'entities': []}, {'website': 'NBC', 'url': 'https://www.nbcnews.com/health/coronavirus', 'headline': \"Texas 'mom and pop' business flooded with orders for helmet ventilators\", 'entities': [('Texas', 'GPE')]}, {'website': 'NBC', 'url': 'https://www.nbcnews.com/health/coronavirus', 'headline': 'Jockeying begins in Congress over the next coronavirus relief bill', 'entities': [('Congress', 'ORG')]}, {'website': 'NBC', 'url': 'https://www.nbcnews.com/health/coronavirus', 'headline': 'Congressional Hispanic Caucus calls on ICE to release detainees amid COVID-19 crisis', 'entities': [('Congressional Hispanic Caucus', 'ORG')]}, {'website': 'NBC', 'url': 'https://www.nbcnews.com/health/coronavirus', 'headline': \"Larry David's coronavirus PSA: Stay home, watch TV and stop 'hurting old people like me'\", 'entities': [(\"Larry David's\", 'PERSON')]}, {'website': 'NBC', 'url': 'https://www.nbcnews.com/health/coronavirus', 'headline': \"Black, Asian and Hispanic House caucus chairs unite in 'no tolerance' for coronavirus racism\", 'entities': [('Asian', 'NORP'), ('Hispanic', 'NORP'), ('House', 'ORG')]}, {'website': 'NBC', 'url': 'https://www.nbcnews.com/health/coronavirus', 'headline': 'On César Chávez Day, Biden calls for coronavirus protections for farmworkers', 'entities': [('César Chávez Day', 'ORG')]}, {'website': 'NBC', 'url': 'https://www.nbcnews.com/health/coronavirus', 'headline': \"Rent's due. Now what? Experts warn a housing crisis shadows the health crisis.\", 'entities': []}, {'website': 'NBC', 'url': 'https://www.nbcnews.com/health/coronavirus', 'headline': 'Fearing COVID-19 spread to families, health care workers self-isolate at home', 'entities': []}, {'website': 'NBC', 'url': 'https://www.nbcnews.com/health/coronavirus', 'headline': 'Wall Street just had one of its worst quarters in history', 'entities': [('one', 'CARDINAL')]}, {'website': 'NBC', 'url': 'https://www.nbcnews.com/health/coronavirus', 'headline': 'New York man exposed to coronavirus hid symptoms to visit wife in hospital', 'entities': [('New York', 'GPE')]}, {'website': 'NBC', 'url': 'https://www.nbcnews.com/health/coronavirus', 'headline': \"'Where's Lightfoot' memes show Chicago mayor guarding city\", 'entities': [('Chicago', 'GPE')]}, {'website': 'NBC', 'url': 'https://www.nbcnews.com/health/coronavirus', 'headline': '28 University of Texas spring breakers test positive for COVID-19', 'entities': [('28', 'CARDINAL'), ('University of Texas', 'ORG')]}, {'website': 'NBC', 'url': 'https://www.nbcnews.com/health/coronavirus', 'headline': 'Coronavirus deniers take aim at hospitals as pandemic grows', 'entities': [('Coronavirus', 'ORG')]}, {'website': 'NBC', 'url': 'https://www.nbcnews.com/health/coronavirus', 'headline': 'Union says 3 UPS employees test positive for COVID-19 at same Massachusetts facility', 'entities': [('Union', 'ORG'), ('3', 'CARDINAL'), ('UPS', 'ORG'), ('Massachusetts', 'GPE')]}, {'website': 'NBC', 'url': 'https://www.nbcnews.com/health/coronavirus', 'headline': 'Consumer confidence nosedives, as U.S. braces for economic pain', 'entities': [('U.S.', 'GPE')]}, {'website': 'NBC', 'url': 'https://www.nbcnews.com/health/coronavirus', 'headline': 'Louisiana pastor charged with defying coronavirus order against large gatherings', 'entities': [('Louisiana', 'GPE')]}, {'website': 'NBC', 'url': 'https://www.nbcnews.com/health/coronavirus', 'headline': 'U.S. faces unparalleled challenge evacuating diplomats amid coronavirus', 'entities': [('U.S.', 'GPE')]}, {'website': 'NBC', 'url': 'https://www.nbcnews.com/health/coronavirus', 'headline': \"McConnell: Impeachment 'diverted' attention from coronavirus concerns\", 'entities': [('McConnell', 'PERSON'), ('Impeachment', 'PERSON')]}, {'website': 'NBC', 'url': 'https://www.nbcnews.com/health/coronavirus', 'headline': \"'I hate COVID-19': Kids with disabilities struggle to adjust as schools close\", 'entities': []}, {'website': 'NBC', 'url': 'https://www.nbcnews.com/health/coronavirus', 'headline': 'Cooking more at home? Roasting vegetables makes healthy eating easier', 'entities': []}, {'website': 'NBC', 'url': 'https://www.nbcnews.com/health/coronavirus', 'headline': 'Essence virtual summit set to help black women cope in COVID-19 era', 'entities': [('COVID-19 era', 'DATE')]}, {'website': 'NBC', 'url': 'https://www.nbcnews.com/health/coronavirus', 'headline': 'They were expecting a baby via surrogate. Then the COVID-19 pandemic put it all on hold', 'entities': []}, {'website': 'NBC', 'url': 'https://www.nbcnews.com/health/coronavirus', 'headline': 'Harry and Meghan bid farewell on last day as British royals', 'entities': [('Harry', 'PERSON'), ('Meghan', 'PERSON'), ('last day', 'DATE'), ('British', 'NORP')]}, {'website': 'NBC', 'url': 'https://www.nbcnews.com/health/coronavirus', 'headline': 'Doctor who got pulled over speeding got face masks instead of a ticket', 'entities': []}, {'website': 'NBC', 'url': 'https://www.nbcnews.com/health/coronavirus', 'headline': \"Pelosi: 'I kept my distance' from members at Capitol, including one presumed to have coronavirus\", 'entities': [('Pelosi', 'CARDINAL'), ('Capitol', 'ORG'), ('one', 'CARDINAL')]}, {'website': 'NBC', 'url': 'https://www.nbcnews.com/health/coronavirus', 'headline': \"Africa's mountain gorillas also at risk from coronavirus\", 'entities': [('Africa', 'LOC')]}, {'website': 'NBC', 'url': 'https://www.nbcnews.com/health/coronavirus', 'headline': \"The stimulus check won't be in the mail for Americans who owe child support\", 'entities': [('Americans', 'NORP')]}, {'website': 'NBC', 'url': 'https://www.nbcnews.com/health/coronavirus', 'headline': 'New Jersey parents charged with child endangerment for hosting party', 'entities': [('New Jersey', 'GPE')]}, {'website': 'NBC', 'url': 'https://www.nbcnews.com/health/coronavirus', 'headline': 'Amazon fires warehouse worker who led NYC strike for more coronavirus protection', 'entities': [('Amazon', 'ORG'), ('NYC', 'ORG')]}, {'website': 'NBC', 'url': 'https://www.nbcnews.com/health/coronavirus', 'headline': 'U.S. coronavirus death toll passes 3,000 as Spain and Italy honor their dead', 'entities': [('U.S.', 'GPE'), ('3,000', 'CARDINAL'), ('Spain', 'GPE'), ('Italy', 'GPE')]}, {'website': 'NBC', 'url': 'https://www.nbcnews.com/health/coronavirus', 'headline': \"Most cruise lines don't pay federal income tax — just one of the reasons they aren't getting a bailout\", 'entities': []}, {'website': 'NBC', 'url': 'https://www.nbcnews.com/health/coronavirus', 'headline': '11 vets die at Massachusetts facility; 5 tested positive for COVID-19', 'entities': [('11', 'CARDINAL'), ('Massachusetts', 'GPE'), ('5', 'CARDINAL')]}, {'website': 'NBC', 'url': 'https://www.nbcnews.com/health/coronavirus', 'headline': 'Vegas invited homeless to parking lot after virus closed shelter', 'entities': [('Vegas', 'GPE')]}, {'website': 'NBC', 'url': 'https://www.nbcnews.com/health/coronavirus', 'headline': 'Facebook, Twitter bar video of Brazilian president endorsing unproven antiviral drug', 'entities': [('Brazilian', 'NORP')]}, {'website': 'NBC', 'url': 'https://www.nbcnews.com/health/coronavirus', 'headline': 'Trump fluffs MyPillow in Rose Garden coronavirus talk', 'entities': [('Rose Garden', 'LOC')]}, {'website': 'NBC', 'url': 'https://www.nbcnews.com/health/coronavirus', 'headline': 'Congressional leaders confident in oversight of economic package despite signing statement', 'entities': []}, {'website': 'NBC', 'url': 'https://www.nbcnews.com/health/coronavirus', 'headline': 'A coronavirus-stricken cruise ship is approaching Florida. Will it be allowed to dock?', 'entities': [('Florida', 'GPE')]}, {'website': 'NBC', 'url': 'https://www.nbcnews.com/health/coronavirus', 'headline': 'Number of long-term care facilities with COVID-19 cases tops 400 nationwide', 'entities': [('400', 'CARDINAL')]}, {'website': 'NBC', 'url': 'https://www.nbcnews.com/health/coronavirus', 'headline': 'Florida pastor arrested after holding church services despite coronavirus orders', 'entities': [('Florida', 'GPE')]}, {'website': 'NBC', 'url': 'https://www.nbcnews.com/health/coronavirus', 'headline': \"'I fear for my life': Prisoners in New York City jails sound alarm as coronavirus spreads\", 'entities': [('New York City', 'GPE')]}, {'website': 'NBC', 'url': 'https://www.nbcnews.com/health/coronavirus', 'headline': \"'It's surreal,' nurse practitioner says of Central Park field hospital\", 'entities': [('Central Park', 'LOC')]}, {'website': 'NBC', 'url': 'https://www.nbcnews.com/health/coronavirus', 'headline': 'Coronavirus medication shortages could be invisible until it is virtually too late', 'entities': [('Coronavirus', 'ORG')]}, {'website': 'NBC', 'url': 'https://www.nbcnews.com/health/coronavirus', 'headline': 'Coronavirus comes for Detroit: Why certain Michigan residents are at higher risk', 'entities': [('Coronavirus', 'ORG'), ('Detroit', 'GPE'), ('Michigan', 'GPE')]}, {'website': 'NBC', 'url': 'https://www.nbcnews.com/health/coronavirus', 'headline': \"Coronavirus strains rural hospitals 'to the absolute limit'\", 'entities': [('Coronavirus', 'ORG')]}, {'website': 'NBC', 'url': 'https://www.nbcnews.com/health/coronavirus', 'headline': \"No evidence for Trump's saying masks 'going out the back door' of NY hospitals\", 'entities': [('Trump', 'PERSON')]}, {'website': 'NBC', 'url': 'https://www.nbcnews.com/health/coronavirus', 'headline': 'Man planned to bomb hospital during pandemic to publicize white supremacist views', 'entities': []}, {'website': 'NBC', 'url': 'https://www.nbcnews.com/health/coronavirus', 'headline': \"'This virus is no joke': Kentucky officials don't wait for surge of coronavirus cases to tighten restrictions\", 'entities': [('Kentucky', 'GPE')]}, {'website': 'NBC', 'url': 'https://www.nbcnews.com/health/coronavirus', 'headline': 'Some Instacart workers strike, others demand more as coronavirus alters labor landscape', 'entities': []}, {'website': 'NBC', 'url': 'https://www.nbcnews.com/health/coronavirus', 'headline': 'Rep. Velazquez has presumed COVID-19 infection, was near Pelosi, other lawmakers last week', 'entities': [('Velazquez', 'PERSON'), ('Pelosi', 'ORG'), ('last week', 'DATE')]}, {'website': 'NBC', 'url': 'https://www.nbcnews.com/health/coronavirus', 'headline': 'Affairs, hoarders and hope: Read anonymous confessions in the time of the coronavirus', 'entities': []}, {'website': 'NBC', 'url': 'https://www.nbcnews.com/health/coronavirus', 'headline': 'Coronavirus: What you need to know', 'entities': []}, {'website': 'NBC', 'url': 'https://www.nbcnews.com/health/coronavirus', 'headline': 'Photos capture empty cities across the globe', 'entities': []}, {'website': 'NBC', 'url': 'https://www.nbcnews.com/health/coronavirus', 'headline': \"Venezuela's Guaidó calls for coalition government to fight the coronavirus\", 'entities': [('Venezuela', 'GPE'), ('Guaidó', 'GPE')]}, {'website': 'NBC', 'url': 'https://www.nbcnews.com/health/coronavirus', 'headline': 'First minor with coronavirus in New York City dies', 'entities': [('New York City', 'GPE')]}, {'website': 'NBC', 'url': 'https://www.nbcnews.com/health/coronavirus', 'headline': '7 ways to set boundaries when working from home', 'entities': [('7', 'CARDINAL')]}, {'website': 'NBC', 'url': 'https://www.nbcnews.com/health/coronavirus', 'headline': 'Formula 1 official suggested drivers infect themselves with coronavirus', 'entities': [('Formula 1', 'PERSON')]}, {'website': 'NBC', 'url': 'https://www.nbcnews.com/health/coronavirus', 'headline': \"Macy's to furlough most of 130,000-strong workforce\", 'entities': [('Macy', 'ORG')]}, {'website': 'NBC', 'url': 'https://www.nbcnews.com/health/coronavirus', 'headline': 'Cooped up at home? You can help scientists spot penguins from space or seek out new galaxies', 'entities': []}, {'website': 'NBC', 'url': 'https://www.nbcnews.com/health/coronavirus', 'headline': 'U.S. set to lose title as top oil producer as demand plunges and gas drops below $1 per gallon', 'entities': [('U.S.', 'GPE'), ('below $1 per gallon', 'MONEY')]}, {'website': 'NBC', 'url': 'https://www.nbcnews.com/health/coronavirus', 'headline': 'Coronavirus kickbacks: FBI arrests Georgia man accused of unnecessary testing scam', 'entities': [('Coronavirus', 'ORG'), ('FBI', 'ORG'), ('Georgia', 'GPE')]}, {'website': 'NBC', 'url': 'https://www.nbcnews.com/health/coronavirus', 'headline': 'Trump administration in talks with India to avoid U.S. drug supply shortage', 'entities': [('India', 'GPE'), ('U.S.', 'GPE')]}, {'website': 'NBC', 'url': 'https://www.nbcnews.com/health/coronavirus', 'headline': 'U.S. vets volunteer to patrol SF Chinatown', 'entities': [('U.S.', 'GPE')]}, {'website': 'NBC', 'url': 'https://www.nbcnews.com/health/coronavirus', 'headline': 'Nursing homes hit hard by coronavirus; one Maryland home reports 66 cases', 'entities': [('one', 'CARDINAL'), ('Maryland', 'GPE'), ('66', 'CARDINAL')]}, {'website': 'CNBC', 'url': 'https://www.cnbc.com/id/10000108/device/rss/rss.html', 'headline': 'Latest news for health care. ', 'entities': []}, {'website': 'CNBC', 'url': 'https://www.cnbc.com/id/10000108/device/rss/rss.html', 'headline': \"Results of a private survey released on Wednesday showed China's manufacturing activity 50.1 in March as factories began to come online amid a coronavirus outbreak.\", 'entities': [('Wednesday', 'DATE'), ('China', 'GPE'), ('50.1', 'CARDINAL'), ('March', 'DATE')]}, {'website': 'CNBC', 'url': 'https://www.cnbc.com/id/10000108/device/rss/rss.html', 'headline': 'HSBC shares fell 9.5% in Hong Kong and Standard Chartered was down 7.18% as of 9:36 a.m. HK/SIN.', 'entities': [('HSBC', 'ORG'), ('9.5%', 'PERCENT'), ('Hong Kong', 'GPE'), ('Standard Chartered', 'ORG'), ('7.18%', 'PERCENT'), ('9:36 a.m.', 'TIME')]}, {'website': 'CNBC', 'url': 'https://www.cnbc.com/id/10000108/device/rss/rss.html', 'headline': 'Maine became the latest state Tuesday to order residents to remain at home during the coronavirus pandemic.', 'entities': [('Maine', 'GPE'), ('Tuesday', 'DATE')]}, {'website': 'CNBC', 'url': 'https://www.cnbc.com/id/10000108/device/rss/rss.html', 'headline': 'President Donald Trump prepared Americans for a surge in coronavirus cases, saying the U.S. is facing a \"very, very painful two weeks.\"', 'entities': [('Donald Trump', 'PERSON'), ('Americans', 'NORP'), ('U.S.', 'GPE'), ('two weeks', 'DATE')]}, {'website': 'CNBC', 'url': 'https://www.cnbc.com/id/10000108/device/rss/rss.html', 'headline': 'Of the nine ships, the one getting the most attention is the Carnival-owned MS Zaandam which has been at sea for 15 days.', 'entities': [('nine', 'CARDINAL'), ('Carnival', 'ORG'), ('Zaandam', 'PERSON'), ('15 days', 'DATE')]}, {'website': 'CNBC', 'url': 'https://www.cnbc.com/id/10000108/device/rss/rss.html', 'headline': 'The digital fitness company extended the free trial of its app to 90 days, which led to a surge in downloads as gyms across the nation close due to stay-at-home mandates', 'entities': [('app to 90 days', 'DATE')]}, {'website': 'CNBC', 'url': 'https://www.cnbc.com/id/10000108/device/rss/rss.html', 'headline': '\"One of the things we need to learn from this is we have to invest in our public health infrastructure, invest in our science ... so things like this never happen again,\" Dr. Ian Lipkin told CNBC.', 'entities': [('One', 'CARDINAL'), ('Ian Lipkin', 'PERSON'), ('CNBC', 'ORG')]}, {'website': 'CNBC', 'url': 'https://www.cnbc.com/id/10000108/device/rss/rss.html', 'headline': 'Four days after signing an unprecedented $2 trillion relief bill to blunt the economic damage from the coronavirus pandemic, the president on Tuesday called for the U.S. to spend another $2 trillion on a massive infrastructure package.', 'entities': [('Four days', 'DATE'), ('an unprecedented $2 trillion', 'MONEY'), ('Tuesday', 'DATE'), ('U.S.', 'GPE'), ('$2 trillion', 'MONEY')]}, {'website': 'CNBC', 'url': 'https://www.cnbc.com/id/10000108/device/rss/rss.html', 'headline': 'According to models used by the state, California Governor Gavin Newsom said he expects the COVID-19 outbreak to peak there some time in May 2020. To fight the pandemic, the state has asked licensed health professionals to raise their hands to work via a new Health Corps site, which scored 25,000 sign-ups in its first day.', 'entities': [('California', 'GPE'), ('Gavin Newsom', 'PERSON'), ('May 2020', 'DATE'), ('Health Corps', 'ORG'), ('25,000', 'CARDINAL'), ('its first day', 'DATE')]}, {'website': 'CNBC', 'url': 'https://www.cnbc.com/id/10000108/device/rss/rss.html', 'headline': 'Part of the USTA Billie Jean King National Tennis Center in Queens will be converted into a temporary hospital with 350 beds for non-ICU patients from Elmhurst Hospital.', 'entities': [('USTA', 'ORG'), ('Queens', 'GPE'), ('350', 'CARDINAL'), ('Elmhurst Hospital', 'ORG')]}, {'website': 'CNBC', 'url': 'https://www.cnbc.com/id/10000108/device/rss/rss.html', 'headline': 'Domestic violence programs and shelters in New York, the state with the most coronavirus cases, are seeing a decline in at-risk clients, who are staying home as the disease spreads.', 'entities': [('New York', 'GPE')]}, {'website': 'CNBC', 'url': 'https://www.cnbc.com/id/10000108/device/rss/rss.html', 'headline': 'New York City Mayor Bill de Blasio is holding a press conference Monday to update the public on the coronavirus outbreak that has infected more than 43,100 people in the city.', 'entities': [('New York City', 'GPE'), ('Bill de Blasio', 'PERSON'), ('Monday', 'DATE'), ('more than 43,100', 'CARDINAL')]}, {'website': 'CNBC', 'url': 'https://www.cnbc.com/id/10000108/device/rss/rss.html', 'headline': 'New Jersey Gov. Phil Murphy is holding a press conference on the COVID-19 outbreak, which has infected more than 16,636 people in the state as of Tuesday.', 'entities': [('New Jersey', 'GPE'), ('Phil Murphy', 'PERSON'), ('more than 16,636', 'CARDINAL'), ('Tuesday', 'DATE')]}, {'website': 'CNBC', 'url': 'https://www.cnbc.com/id/10000108/device/rss/rss.html', 'headline': 'JetBlue is the latest carrier to slash flights in the New York area because of coronavirus warnings.', 'entities': [('JetBlue', 'ORG'), ('New York', 'GPE')]}, {'website': 'CNBC', 'url': 'https://www.cnbc.com/id/10000108/device/rss/rss.html', 'headline': 'Dr. Ed Boyle is trying to keep a brave face for his staff in Bend, Oregon, but revenue has taken a huge hit now that his medical practice can no longer perform elective procedures during the coronavirus shutdown. His wife, Dr. Ida Azul, is in the same boat.', 'entities': [('Ed Boyle', 'PERSON'), ('Bend', 'GPE'), ('Oregon', 'GPE'), ('Ida Azul', 'PERSON')]}, {'website': 'CNBC', 'url': 'https://www.cnbc.com/id/10000108/device/rss/rss.html', 'headline': '\"We don\\'t intend to do any layoffs as a result of COVID-19,\" PayPal CEO Dan Schulman told CNBC on Tuesday.', 'entities': [('Dan Schulman', 'PERSON'), ('CNBC', 'ORG'), ('Tuesday', 'DATE')]}, {'website': 'CNBC', 'url': 'https://www.cnbc.com/id/10000108/device/rss/rss.html', 'headline': '\"We have been behind it from day one since it got here. We have been playing catch up,\" Cuomo said Tuesday in announcing the new cases.', 'entities': [('day one', 'DATE'), ('Cuomo', 'PERSON'), ('Tuesday', 'DATE')]}, {'website': 'CNBC', 'url': 'https://www.cnbc.com/id/10000108/device/rss/rss.html', 'headline': \"Chris Cuomo, the CNN anchor who is the brother of New York Gov. Andrew Cuomo, has been diagnosed with the coronavirus, he announced Tuesday. Chris Cuomo's disclosure came as his brother briefed reporters on the increasing numbers of COVID-19 in New York state.\", 'entities': [('Chris Cuomo', 'PERSON'), ('CNN', 'ORG'), ('New York', 'GPE'), ('Andrew Cuomo', 'PERSON'), ('Tuesday', 'DATE'), (\"Chris Cuomo's\", 'PERSON'), ('New York', 'GPE')]}, {'website': 'CNBC', 'url': 'https://www.cnbc.com/id/10000108/device/rss/rss.html', 'headline': \"The new cases make New York the coronavirus epicenter of the world, surpassing China's Hubei province, which reported 67,801 cases.\", 'entities': [('New York', 'GPE'), ('China', 'GPE'), ('Hubei province', 'GPE'), ('67,801', 'CARDINAL')]}, {'website': 'CNBC', 'url': 'https://www.cnbc.com/id/10000108/device/rss/rss.html', 'headline': 'Americans are still \"in a very difficult situation,\" the director of the National Institute of Allergy and Infectious Diseases said.', 'entities': [('Americans', 'NORP'), ('the National Institute of Allergy and Infectious Diseases', 'ORG')]}, {'website': 'CNBC', 'url': 'https://www.cnbc.com/id/10000108/device/rss/rss.html', 'headline': 'New York Gov. Andrew Cuomo is holding his daily press conference on the COVID-19 outbreak, which has infected more than 67,300 people in the state as of Wednesday.', 'entities': [('New York', 'GPE'), ('Andrew Cuomo', 'PERSON'), ('more than 67,300', 'CARDINAL'), ('Wednesday', 'DATE')]}, {'website': 'CNBC', 'url': 'https://www.cnbc.com/id/10000108/device/rss/rss.html', 'headline': \"Economist Derek Scissors said it is hard to believe China's COVID-19 outbreak did not spread more significantly outside Hubei province.\", 'entities': [('Derek Scissors', 'ORG'), ('China', 'GPE'), ('Hubei', 'GPE')]}, {'website': 'CNBC', 'url': 'https://www.cnbc.com/id/10000108/device/rss/rss.html', 'headline': \"CNBC's Jim Cramer said Tuesday that a faster coronavirus test could turn the tide in fighting the outbreak — and by extension, the battered economy and the stock market.\", 'entities': [('CNBC', 'ORG'), ('Jim Cramer', 'PERSON'), ('Tuesday', 'DATE')]}, {'website': 'CNBC', 'url': 'https://www.cnbc.com/id/10000108/device/rss/rss.html', 'headline': 'Carnival warned that \"even once travel advisories and restrictions are lifted, demand for cruises may remain weak for a significant length of time.\"', 'entities': [('Carnival', 'ORG')]}, {'website': 'CNBC', 'url': 'https://www.cnbc.com/id/10000108/device/rss/rss.html', 'headline': \"You're probably trying to stay in touch with friends, family and colleagues. There are a ton of video chat apps, and some are good for one purpose but not great for others. Here are some of the best video calling apps.\", 'entities': [('a ton', 'QUANTITY'), ('one', 'CARDINAL')]}, {'website': 'CNBC', 'url': 'https://www.cnbc.com/id/10000108/device/rss/rss.html', 'headline': 'The ambulances will increase capacity to transport coronavirus patients between medical facilities and assist the Fire Department with responding to a record number of medical calls.', 'entities': [('the Fire Department', 'ORG')]}, {'website': 'CNBC', 'url': 'https://www.cnbc.com/id/10000108/device/rss/rss.html', 'headline': 'The firm still expects a rebound to 4.9% growth in 2021.', 'entities': [('4.9%', 'PERCENT'), ('2021', 'DATE')]}, {'website': 'CNBC', 'url': 'https://www.cnbc.com/id/10000108/device/rss/rss.html', 'headline': 'The U.S. Department of Transportation will allow airlines to consolidate some of their service into a single airport to receive aid.', 'entities': [('The U.S. Department of Transportation', 'ORG')]}, {'website': 'CNBC', 'url': 'https://www.cnbc.com/id/10000108/device/rss/rss.html', 'headline': 'Belarussian President Alexander Lukashenko has refused to implement a lockdown in the country of roughly 9.5 million people.', 'entities': [('Belarussian', 'NORP'), ('Alexander Lukashenko', 'PERSON'), ('roughly 9.5 million', 'CARDINAL')]}]\n"
     ]
    }
   ],
   "source": [
    "print(news_dict)"
   ]
  },
  {
   "cell_type": "code",
   "execution_count": 18,
   "metadata": {},
   "outputs": [],
   "source": [
    "import pandas as pd\n",
    "news_df=pd.DataFrame(news_dict)"
   ]
  },
  {
   "cell_type": "code",
   "execution_count": 19,
   "metadata": {
    "scrolled": true
   },
   "outputs": [
    {
     "data": {
      "text/html": [
       "<div>\n",
       "<style scoped>\n",
       "    .dataframe tbody tr th:only-of-type {\n",
       "        vertical-align: middle;\n",
       "    }\n",
       "\n",
       "    .dataframe tbody tr th {\n",
       "        vertical-align: top;\n",
       "    }\n",
       "\n",
       "    .dataframe thead th {\n",
       "        text-align: right;\n",
       "    }\n",
       "</style>\n",
       "<table border=\"1\" class=\"dataframe\">\n",
       "  <thead>\n",
       "    <tr style=\"text-align: right;\">\n",
       "      <th></th>\n",
       "      <th>entities</th>\n",
       "      <th>headline</th>\n",
       "      <th>url</th>\n",
       "      <th>website</th>\n",
       "    </tr>\n",
       "  </thead>\n",
       "  <tbody>\n",
       "    <tr>\n",
       "      <th>0</th>\n",
       "      <td>[]</td>\n",
       "      <td>What you need to know</td>\n",
       "      <td>https://www.cnn.com/world/live-news/coronavirus-outbreak-03-12-20-intl-hnk/index.html</td>\n",
       "      <td>CNN</td>\n",
       "    </tr>\n",
       "    <tr>\n",
       "      <th>1</th>\n",
       "      <td>[(tonight, TIME), (Pelosi, ORG)]</td>\n",
       "      <td>No deal reached tonight on coronavirus response package, Pelosi says</td>\n",
       "      <td>https://www.cnn.com/world/live-news/coronavirus-outbreak-03-12-20-intl-hnk/index.html</td>\n",
       "      <td>CNN</td>\n",
       "    </tr>\n",
       "    <tr>\n",
       "      <th>2</th>\n",
       "      <td>[(Billie Eilish, PERSON)]</td>\n",
       "      <td>Singer Billie Eilish postpones tour dates over coronavirus outbreak</td>\n",
       "      <td>https://www.cnn.com/world/live-news/coronavirus-outbreak-03-12-20-intl-hnk/index.html</td>\n",
       "      <td>CNN</td>\n",
       "    </tr>\n",
       "    <tr>\n",
       "      <th>3</th>\n",
       "      <td>[(CNN, ORG)]</td>\n",
       "      <td>SOON: CNN's coronavirus town hall</td>\n",
       "      <td>https://www.cnn.com/world/live-news/coronavirus-outbreak-03-12-20-intl-hnk/index.html</td>\n",
       "      <td>CNN</td>\n",
       "    </tr>\n",
       "    <tr>\n",
       "      <th>4</th>\n",
       "      <td>[(Disney World, ORG), (Disneyland Paris Resort, ORG)]</td>\n",
       "      <td>Disney World, Disneyland Paris Resort to close over coronavirus concerns</td>\n",
       "      <td>https://www.cnn.com/world/live-news/coronavirus-outbreak-03-12-20-intl-hnk/index.html</td>\n",
       "      <td>CNN</td>\n",
       "    </tr>\n",
       "    <tr>\n",
       "      <th>5</th>\n",
       "      <td>[(Pennsylvania Department of Corrections, ORG), (tomorrow, DATE)]</td>\n",
       "      <td>Pennsylvania Department of Corrections suspending most prison visits starting tomorrow</td>\n",
       "      <td>https://www.cnn.com/world/live-news/coronavirus-outbreak-03-12-20-intl-hnk/index.html</td>\n",
       "      <td>CNN</td>\n",
       "    </tr>\n",
       "    <tr>\n",
       "      <th>6</th>\n",
       "      <td>[(New Mexico, GPE), (3 weeks, DATE)]</td>\n",
       "      <td>New Mexico to close all K-12 public schools for 3 weeks</td>\n",
       "      <td>https://www.cnn.com/world/live-news/coronavirus-outbreak-03-12-20-intl-hnk/index.html</td>\n",
       "      <td>CNN</td>\n",
       "    </tr>\n",
       "    <tr>\n",
       "      <th>7</th>\n",
       "      <td>[(NBA, ORG), (Cleveland Cavaliers, ORG)]</td>\n",
       "      <td>NBA's Cleveland Cavaliers to compensate all stadium employees regular wages</td>\n",
       "      <td>https://www.cnn.com/world/live-news/coronavirus-outbreak-03-12-20-intl-hnk/index.html</td>\n",
       "      <td>CNN</td>\n",
       "    </tr>\n",
       "    <tr>\n",
       "      <th>8</th>\n",
       "      <td>[(Kansas, GPE), (first, ORDINAL)]</td>\n",
       "      <td>Kansas announces first coronavirus death</td>\n",
       "      <td>https://www.cnn.com/world/live-news/coronavirus-outbreak-03-12-20-intl-hnk/index.html</td>\n",
       "      <td>CNN</td>\n",
       "    </tr>\n",
       "    <tr>\n",
       "      <th>9</th>\n",
       "      <td>[(Americans, NORP), (100,000-240,000, CARDINAL), (Trump, PERSON), (two weeks', DATE)]</td>\n",
       "      <td>Americans told to prepare for 100,000-240,000 coronavirus deaths as Trump predicts 'very painful two weeks'</td>\n",
       "      <td>https://www.nbcnews.com/health/coronavirus</td>\n",
       "      <td>NBC</td>\n",
       "    </tr>\n",
       "  </tbody>\n",
       "</table>\n",
       "</div>"
      ],
      "text/plain": [
       "                                                                                entities  \\\n",
       "0                                                                                     []   \n",
       "1                                                       [(tonight, TIME), (Pelosi, ORG)]   \n",
       "2                                                              [(Billie Eilish, PERSON)]   \n",
       "3                                                                           [(CNN, ORG)]   \n",
       "4                                  [(Disney World, ORG), (Disneyland Paris Resort, ORG)]   \n",
       "5                      [(Pennsylvania Department of Corrections, ORG), (tomorrow, DATE)]   \n",
       "6                                                   [(New Mexico, GPE), (3 weeks, DATE)]   \n",
       "7                                               [(NBA, ORG), (Cleveland Cavaliers, ORG)]   \n",
       "8                                                      [(Kansas, GPE), (first, ORDINAL)]   \n",
       "9  [(Americans, NORP), (100,000-240,000, CARDINAL), (Trump, PERSON), (two weeks', DATE)]   \n",
       "\n",
       "                                                                                                      headline  \\\n",
       "0                                                                                        What you need to know   \n",
       "1                                         No deal reached tonight on coronavirus response package, Pelosi says   \n",
       "2                                          Singer Billie Eilish postpones tour dates over coronavirus outbreak   \n",
       "3                                                                            SOON: CNN's coronavirus town hall   \n",
       "4                                     Disney World, Disneyland Paris Resort to close over coronavirus concerns   \n",
       "5                       Pennsylvania Department of Corrections suspending most prison visits starting tomorrow   \n",
       "6                                                      New Mexico to close all K-12 public schools for 3 weeks   \n",
       "7                                  NBA's Cleveland Cavaliers to compensate all stadium employees regular wages   \n",
       "8                                                                     Kansas announces first coronavirus death   \n",
       "9  Americans told to prepare for 100,000-240,000 coronavirus deaths as Trump predicts 'very painful two weeks'   \n",
       "\n",
       "                                                                                     url  \\\n",
       "0  https://www.cnn.com/world/live-news/coronavirus-outbreak-03-12-20-intl-hnk/index.html   \n",
       "1  https://www.cnn.com/world/live-news/coronavirus-outbreak-03-12-20-intl-hnk/index.html   \n",
       "2  https://www.cnn.com/world/live-news/coronavirus-outbreak-03-12-20-intl-hnk/index.html   \n",
       "3  https://www.cnn.com/world/live-news/coronavirus-outbreak-03-12-20-intl-hnk/index.html   \n",
       "4  https://www.cnn.com/world/live-news/coronavirus-outbreak-03-12-20-intl-hnk/index.html   \n",
       "5  https://www.cnn.com/world/live-news/coronavirus-outbreak-03-12-20-intl-hnk/index.html   \n",
       "6  https://www.cnn.com/world/live-news/coronavirus-outbreak-03-12-20-intl-hnk/index.html   \n",
       "7  https://www.cnn.com/world/live-news/coronavirus-outbreak-03-12-20-intl-hnk/index.html   \n",
       "8  https://www.cnn.com/world/live-news/coronavirus-outbreak-03-12-20-intl-hnk/index.html   \n",
       "9                                             https://www.nbcnews.com/health/coronavirus   \n",
       "\n",
       "  website  \n",
       "0     CNN  \n",
       "1     CNN  \n",
       "2     CNN  \n",
       "3     CNN  \n",
       "4     CNN  \n",
       "5     CNN  \n",
       "6     CNN  \n",
       "7     CNN  \n",
       "8     CNN  \n",
       "9     NBC  "
      ]
     },
     "execution_count": 19,
     "metadata": {},
     "output_type": "execute_result"
    }
   ],
   "source": [
    "pd.set_option('max_colwidth',800)\n",
    "news_df.head(10)"
   ]
  },
  {
   "cell_type": "code",
   "execution_count": 20,
   "metadata": {
    "scrolled": false
   },
   "outputs": [],
   "source": [
    "news_final_df=pd.concat([news_df[['website','url','headline']],news_df['entities'].apply(pd.Series)],axis=1)"
   ]
  },
  {
   "cell_type": "code",
   "execution_count": 21,
   "metadata": {},
   "outputs": [],
   "source": [
    "news_df.to_csv(\"web_scapping.csv\")"
   ]
  }
 ],
 "metadata": {
  "kernelspec": {
   "display_name": "Python 3",
   "language": "python",
   "name": "python3"
  },
  "language_info": {
   "codemirror_mode": {
    "name": "ipython",
    "version": 3
   },
   "file_extension": ".py",
   "mimetype": "text/x-python",
   "name": "python",
   "nbconvert_exporter": "python",
   "pygments_lexer": "ipython3",
   "version": "3.6.7"
  }
 },
 "nbformat": 4,
 "nbformat_minor": 2
}
