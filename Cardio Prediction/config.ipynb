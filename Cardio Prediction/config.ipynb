{
 "cells": [
  {
   "cell_type": "code",
   "execution_count": 1,
   "metadata": {},
   "outputs": [],
   "source": [
    "training_data_file=\"cardio_train.csv\"\n",
    "pipeline_name='full_pipe'\n",
    "target='cardio'\n",
    "features=['id','age','gender','height','weight','ap_hi','ap_lo','cholesterol','gluc','smoke','alco','active']\n",
    "drop_features=['id','weight','height','smoke','alco','active']\n",
    "disc_list=['gender', 'cholesterol', 'gluc', 'smoke', 'alco', 'active']\n",
    "trans_list=['height','age','weight']\n",
    "aphi_outlier=['ap_hi']\n",
    "aplo_outlier=['ap_lo']\n",
    "num_transformer=['height']"
   ]
  }
 ],
 "metadata": {
  "kernelspec": {
   "display_name": "Python 3",
   "language": "python",
   "name": "python3"
  },
  "language_info": {
   "codemirror_mode": {
    "name": "ipython",
    "version": 3
   },
   "file_extension": ".py",
   "mimetype": "text/x-python",
   "name": "python",
   "nbconvert_exporter": "python",
   "pygments_lexer": "ipython3",
   "version": "3.6.7"
  }
 },
 "nbformat": 4,
 "nbformat_minor": 2
}
