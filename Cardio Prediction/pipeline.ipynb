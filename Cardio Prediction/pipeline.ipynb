{
 "cells": [
  {
   "cell_type": "code",
   "execution_count": 1,
   "metadata": {
    "scrolled": true
   },
   "outputs": [
    {
     "name": "stdout",
     "output_type": "stream",
     "text": [
      "importing Jupyter notebook from config.ipynb\n",
      "importing Jupyter notebook from preprocessors.ipynb\n"
     ]
    }
   ],
   "source": [
    "import import_ipynb\n",
    "import config\n",
    "import preprocessors as pp\n",
    "from sklearn.pipeline import Pipeline\n",
    "from sklearn.impute import SimpleImputer\n",
    "from sklearn.tree import DecisionTreeClassifier"
   ]
  },
  {
   "cell_type": "code",
   "execution_count": 2,
   "metadata": {},
   "outputs": [],
   "source": [
    "full_pipe=Pipeline(\n",
    "                    [('num_transformer',pp.NumericalTransformer(variables=config.num_transformer)),\n",
    "                     ('aphi_transformer',pp.OutlierTransformer_aphi(variables=config.aphi_outlier)),\n",
    "                     ('aplo_transformer',pp.OutlierTransformer_aplo(variables=config.aplo_outlier)),\n",
    "                     ('feature_transformer',pp.FeatureTransformer(variables=config.trans_list)),\n",
    "                     ('drop_columns',pp.DropColumns(drop_features=config.drop_features)),\n",
    "                     ('dec_tree',DecisionTreeClassifier(criterion='gini', max_depth= 5, min_samples_leaf= 1, min_samples_split= 2, splitter= 'best') )\n",
    "                    ])"
   ]
  },
  {
   "cell_type": "code",
   "execution_count": 3,
   "metadata": {},
   "outputs": [],
   "source": [
    "#!pip install import-ipynb"
   ]
  }
 ],
 "metadata": {
  "kernelspec": {
   "display_name": "Python 3",
   "language": "python",
   "name": "python3"
  },
  "language_info": {
   "codemirror_mode": {
    "name": "ipython",
    "version": 3
   },
   "file_extension": ".py",
   "mimetype": "text/x-python",
   "name": "python",
   "nbconvert_exporter": "python",
   "pygments_lexer": "ipython3",
   "version": "3.6.7"
  }
 },
 "nbformat": 4,
 "nbformat_minor": 2
}
